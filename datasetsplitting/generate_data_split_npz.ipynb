{
 "cells": [
  {
   "cell_type": "markdown",
   "id": "237dcbff",
   "metadata": {},
   "source": [
    "# Generate Data Splits (npz files)\n",
    "\n",
    "This notebook show the code of generating data splits and saving them as `npz` files.\n",
    "\n",
    "`TCGA-BRCA` will be taken as the example for illustration."
   ]
  },
  {
   "cell_type": "code",
   "execution_count": 1,
   "id": "7e4c8c75",
   "metadata": {},
   "outputs": [
    {
     "data": {
      "text/plain": [
       "'/home/liup/repo/PseMix'"
      ]
     },
     "execution_count": 1,
     "metadata": {},
     "output_type": "execute_result"
    }
   ],
   "source": [
    "import os\n",
    "import os.path as osp\n",
    "import pandas as pd\n",
    "import numpy as np\n",
    "os.chdir('..')\n",
    "os.getcwd()"
   ]
  },
  {
   "cell_type": "markdown",
   "id": "ba057c55",
   "metadata": {},
   "source": [
    "## 1. loading the csv file with data label information."
   ]
  },
  {
   "cell_type": "code",
   "execution_count": 2,
   "id": "e01dbe34",
   "metadata": {},
   "outputs": [
    {
     "data": {
      "text/html": [
       "<div>\n",
       "<style scoped>\n",
       "    .dataframe tbody tr th:only-of-type {\n",
       "        vertical-align: middle;\n",
       "    }\n",
       "\n",
       "    .dataframe tbody tr th {\n",
       "        vertical-align: top;\n",
       "    }\n",
       "\n",
       "    .dataframe thead th {\n",
       "        text-align: right;\n",
       "    }\n",
       "</style>\n",
       "<table border=\"1\" class=\"dataframe\">\n",
       "  <thead>\n",
       "    <tr style=\"text-align: right;\">\n",
       "      <th></th>\n",
       "      <th>patient_id</th>\n",
       "      <th>pathology_id</th>\n",
       "      <th>subtype</th>\n",
       "      <th>label</th>\n",
       "    </tr>\n",
       "  </thead>\n",
       "  <tbody>\n",
       "    <tr>\n",
       "      <th>0</th>\n",
       "      <td>TCGA-D8-A1XL</td>\n",
       "      <td>TCGA-D8-A1XL-01Z-00-DX2.FDE2C80D-5DC4-4743-A18...</td>\n",
       "      <td>IDC</td>\n",
       "      <td>1</td>\n",
       "    </tr>\n",
       "    <tr>\n",
       "      <th>1</th>\n",
       "      <td>TCGA-D8-A1XW</td>\n",
       "      <td>TCGA-D8-A1XW-01Z-00-DX1.10187A1F-086B-4CD9-AC0...</td>\n",
       "      <td>IDC</td>\n",
       "      <td>1</td>\n",
       "    </tr>\n",
       "    <tr>\n",
       "      <th>2</th>\n",
       "      <td>TCGA-C8-A12Y</td>\n",
       "      <td>TCGA-C8-A12Y-01Z-00-DX1.A15CB3E2-E145-4C75-8FE...</td>\n",
       "      <td>IDC</td>\n",
       "      <td>1</td>\n",
       "    </tr>\n",
       "    <tr>\n",
       "      <th>3</th>\n",
       "      <td>TCGA-GM-A2DM</td>\n",
       "      <td>TCGA-GM-A2DM-01Z-00-DX1.652038F4-C370-40EB-A54...</td>\n",
       "      <td>IDC</td>\n",
       "      <td>1</td>\n",
       "    </tr>\n",
       "    <tr>\n",
       "      <th>4</th>\n",
       "      <td>TCGA-AR-A24R</td>\n",
       "      <td>TCGA-AR-A24R-01Z-00-DX1.47D79205-63E7-43E6-A51...</td>\n",
       "      <td>IDC</td>\n",
       "      <td>1</td>\n",
       "    </tr>\n",
       "  </tbody>\n",
       "</table>\n",
       "</div>"
      ],
      "text/plain": [
       "     patient_id                                       pathology_id subtype  \\\n",
       "0  TCGA-D8-A1XL  TCGA-D8-A1XL-01Z-00-DX2.FDE2C80D-5DC4-4743-A18...     IDC   \n",
       "1  TCGA-D8-A1XW  TCGA-D8-A1XW-01Z-00-DX1.10187A1F-086B-4CD9-AC0...     IDC   \n",
       "2  TCGA-C8-A12Y  TCGA-C8-A12Y-01Z-00-DX1.A15CB3E2-E145-4C75-8FE...     IDC   \n",
       "3  TCGA-GM-A2DM  TCGA-GM-A2DM-01Z-00-DX1.652038F4-C370-40EB-A54...     IDC   \n",
       "4  TCGA-AR-A24R  TCGA-AR-A24R-01Z-00-DX1.47D79205-63E7-43E6-A51...     IDC   \n",
       "\n",
       "   label  \n",
       "0      1  \n",
       "1      1  \n",
       "2      1  \n",
       "3      1  \n",
       "4      1  "
      ]
     },
     "execution_count": 2,
     "metadata": {},
     "output_type": "execute_result"
    }
   ],
   "source": [
    "NAME_DATASET = 'TCGA_BRCA'\n",
    "PATH_LABEL_CSV = './data_split/{}/{}_path_full_subtype.csv'.format(NAME_DATASET.lower(), NAME_DATASET)\n",
    "\n",
    "data_csv = pd.read_csv(PATH_LABEL_CSV)\n",
    "data_csv = data_csv.loc[:, ['patient_id', 'pathology_id', 'subtype', 'label']]\n",
    "#data_csv['patient_id'] = data_csv['pathology_id'].apply(lambda s: s[:12])\n",
    "#data_csv['label'] = data_csv['subtype'].apply(lambda s: 1 if s == 'LUAD' else 0) # 1 if s == 'LUAD' else 0\n",
    "data_csv.head()"
   ]
  },
  {
   "cell_type": "code",
   "execution_count": 3,
   "id": "aec992d3",
   "metadata": {},
   "outputs": [
    {
     "name": "stdout",
     "output_type": "stream",
     "text": [
      "There are 953 WSIs\n",
      "There are 898 patients\n"
     ]
    }
   ],
   "source": [
    "gps = data_csv.groupby('patient_id')\n",
    "for k, v in gps:\n",
    "    if len(v.index) > 1:\n",
    "        for i in range(len(v.index)):\n",
    "            if v.iloc[i, 3] != v.iloc[0, 3]:\n",
    "                print('The patient {} has two subtype-different slides'.format(k))\n",
    "print(\"There are {} WSIs\".format(len(data_csv)))\n",
    "print(\"There are {} patients\".format(len(gps)))"
   ]
  },
  {
   "cell_type": "markdown",
   "id": "94102903",
   "metadata": {},
   "source": [
    "get patient-level information for **patient-level splitting**"
   ]
  },
  {
   "cell_type": "code",
   "execution_count": 4,
   "id": "2e217fb5",
   "metadata": {},
   "outputs": [
    {
     "data": {
      "text/html": [
       "<div>\n",
       "<style scoped>\n",
       "    .dataframe tbody tr th:only-of-type {\n",
       "        vertical-align: middle;\n",
       "    }\n",
       "\n",
       "    .dataframe tbody tr th {\n",
       "        vertical-align: top;\n",
       "    }\n",
       "\n",
       "    .dataframe thead th {\n",
       "        text-align: right;\n",
       "    }\n",
       "</style>\n",
       "<table border=\"1\" class=\"dataframe\">\n",
       "  <thead>\n",
       "    <tr style=\"text-align: right;\">\n",
       "      <th></th>\n",
       "      <th>patient_id</th>\n",
       "      <th>subtype</th>\n",
       "      <th>label</th>\n",
       "    </tr>\n",
       "  </thead>\n",
       "  <tbody>\n",
       "    <tr>\n",
       "      <th>0</th>\n",
       "      <td>TCGA-D8-A1XL</td>\n",
       "      <td>IDC</td>\n",
       "      <td>1</td>\n",
       "    </tr>\n",
       "    <tr>\n",
       "      <th>1</th>\n",
       "      <td>TCGA-D8-A1XW</td>\n",
       "      <td>IDC</td>\n",
       "      <td>1</td>\n",
       "    </tr>\n",
       "    <tr>\n",
       "      <th>2</th>\n",
       "      <td>TCGA-C8-A12Y</td>\n",
       "      <td>IDC</td>\n",
       "      <td>1</td>\n",
       "    </tr>\n",
       "    <tr>\n",
       "      <th>3</th>\n",
       "      <td>TCGA-GM-A2DM</td>\n",
       "      <td>IDC</td>\n",
       "      <td>1</td>\n",
       "    </tr>\n",
       "    <tr>\n",
       "      <th>4</th>\n",
       "      <td>TCGA-AR-A24R</td>\n",
       "      <td>IDC</td>\n",
       "      <td>1</td>\n",
       "    </tr>\n",
       "  </tbody>\n",
       "</table>\n",
       "</div>"
      ],
      "text/plain": [
       "     patient_id subtype  label\n",
       "0  TCGA-D8-A1XL     IDC      1\n",
       "1  TCGA-D8-A1XW     IDC      1\n",
       "2  TCGA-C8-A12Y     IDC      1\n",
       "3  TCGA-GM-A2DM     IDC      1\n",
       "4  TCGA-AR-A24R     IDC      1"
      ]
     },
     "execution_count": 4,
     "metadata": {},
     "output_type": "execute_result"
    }
   ],
   "source": [
    "data_pat = data_csv.drop_duplicates(subset=['patient_id'], keep='first').loc[:, ['patient_id', 'subtype', 'label']]\n",
    "data_pat = data_pat.reset_index(drop=True)\n",
    "data_pat.head()"
   ]
  },
  {
   "cell_type": "markdown",
   "id": "255cc542",
   "metadata": {},
   "source": [
    "## Generating and Saveing the `npz` data splits (Binary Class)\n",
    "\n",
    "We randomly split the patients into three subsets (train/val/test) with a ratio of 60/15/25. \n",
    "\n",
    "The split will be saved as `npz` files like the following:\n",
    "\n",
    "```python\n",
    "PATH_TO_SAVE = './data_split_xx.npz'\n",
    "pids_new_train = ['train_001', ..., 'train_100'] # each string should correspond to the patient IDs for training\n",
    "pids_new_val = ['val_001', ..., 'val_100'] # each string should correspond to the patient IDs for validation\n",
    "pids_new_test = ['test_01', ..., 'test_100'] # each string should correspond to the patient IDs for test\n",
    "np.savez(\n",
    "    PATH_TO_SAVE,\n",
    "    train_patients=pids_new_train,\n",
    "    val_patients=pids_new_val,\n",
    "    test_patients=pids_test\n",
    ")\n",
    "```"
   ]
  },
  {
   "cell_type": "code",
   "execution_count": 5,
   "id": "e7caa35a",
   "metadata": {},
   "outputs": [],
   "source": [
    "DIR_TO_SAVE = './data_split/{}'.format(NAME_DATASET.lower())"
   ]
  },
  {
   "cell_type": "code",
   "execution_count": 6,
   "id": "999e904a",
   "metadata": {},
   "outputs": [
    {
     "name": "stdout",
     "output_type": "stream",
     "text": [
      "1-th fold:\n",
      "\tfurther split into train/val\n",
      "\t# train/val/test: 538/135/225\n",
      "\t[info] see the npz file at ./data_split/tcga_brca/TCGA_BRCA-kfold0.npz.\n",
      "2-th fold:\n",
      "\tfurther split into train/val\n",
      "\t# train/val/test: 538/135/225\n",
      "\t[info] see the npz file at ./data_split/tcga_brca/TCGA_BRCA-kfold1.npz.\n",
      "3-th fold:\n",
      "\tfurther split into train/val\n",
      "\t# train/val/test: 539/135/224\n",
      "\t[info] see the npz file at ./data_split/tcga_brca/TCGA_BRCA-kfold2.npz.\n",
      "4-th fold:\n",
      "\tfurther split into train/val\n",
      "\t# train/val/test: 539/135/224\n",
      "\t[info] see the npz file at ./data_split/tcga_brca/TCGA_BRCA-kfold3.npz.\n"
     ]
    }
   ],
   "source": [
    "from sklearn.model_selection import StratifiedKFold\n",
    "from sklearn.model_selection import StratifiedShuffleSplit\n",
    "\n",
    "SEED = 42\n",
    "skf = StratifiedKFold(n_splits=4, random_state=SEED, shuffle=True)\n",
    "for i, (train_index, test_index) in enumerate(skf.split(data_pat['patient_id'], data_pat['label'])):\n",
    "    print(\"{}-th fold:\".format(i+1))\n",
    "    pat_train, y_train = data_pat['patient_id'][train_index], data_pat['label'][train_index]\n",
    "    pat_test,  y_test  = data_pat['patient_id'][test_index],  data_pat['label'][test_index]\n",
    "    \n",
    "    # further split train into train/val\n",
    "    pat_train = pat_train.reset_index(drop=True)\n",
    "    y_train   = y_train.reset_index(drop=True)\n",
    "    sss = StratifiedShuffleSplit(n_splits=1, test_size=0.2, random_state=SEED)\n",
    "    for j, (new_train_index, new_val_index) in enumerate(sss.split(pat_train, y_train)):\n",
    "        print(\"\\tfurther split into train/val\".format(j+1))\n",
    "        pat_new_train, y_new_train = pat_train[new_train_index], y_train[new_train_index]\n",
    "        pat_new_val,   y_new_val   = pat_train[new_val_index], y_train[new_val_index]\n",
    "    \n",
    "    # stats of splits\n",
    "    print(\"\\t# train/val/test: {}/{}/{}\".format(len(pat_new_train), len(pat_new_val), len(pat_test)))\n",
    "    \n",
    "    PATH_TO_NPZ = osp.join(DIR_TO_SAVE, f'{NAME_DATASET}-fold{i}.npz')\n",
    "    # save the splits\n",
    "    np.savez(PATH_TO_NPZ, \n",
    "        train_patients=list(pat_new_train), \n",
    "        val_patients=list(pat_new_val), \n",
    "        test_patients=list(pat_test)\n",
    "    )\n",
    "    print(f\"\\t[info] see the npz file at {PATH_TO_NPZ}.\")"
   ]
  },
  {
   "cell_type": "markdown",
   "id": "01838f1b",
   "metadata": {},
   "source": [
    "## Generating and Saveing the data splits (Multi-Class)"
   ]
  },
  {
   "cell_type": "code",
   "execution_count": null,
   "id": "1b27cc38",
   "metadata": {},
   "outputs": [],
   "source": [
    "DIR_TO_SAVE = './data_split/{}'.format(NAME_DATASET.lower())"
   ]
  },
  {
   "cell_type": "code",
   "execution_count": null,
   "id": "a5dd2943",
   "metadata": {},
   "outputs": [],
   "source": [
    "from sklearn.model_selection import StratifiedKFold\n",
    "from sklearn.model_selection import StratifiedShuffleSplit\n",
    "\n",
    "NUM_CLASS = 3\n",
    "SEED = 42\n",
    "skf = StratifiedKFold(n_splits=4, random_state=SEED, shuffle=True)\n",
    "for i, (train_index, test_index) in enumerate(skf.split(data_pat['patient_id'], data_pat['label'])):\n",
    "    print(\"{}-th fold:\".format(i+1))\n",
    "    pat_train, y_train = data_pat['patient_id'][train_index], data_pat['label'][train_index]\n",
    "    pat_test,  y_test  = data_pat['patient_id'][test_index],  data_pat['label'][test_index]\n",
    "    \n",
    "    # further split train into train/val\n",
    "    pat_train = pat_train.reset_index(drop=True)\n",
    "    y_train   = y_train.reset_index(drop=True)\n",
    "    sss = StratifiedShuffleSplit(n_splits=1, test_size=0.2, random_state=SEED)\n",
    "    for j, (new_train_index, new_val_index) in enumerate(sss.split(pat_train, y_train)):\n",
    "        print(\"\\tfurther split into train/val\".format(j+1))\n",
    "        pat_new_train, y_new_train = pat_train[new_train_index], y_train[new_train_index]\n",
    "        pat_new_val,   y_new_val   = pat_train[new_val_index], y_train[new_val_index]\n",
    "    \n",
    "    # stats of splits\n",
    "    print(\"\\t# train/val/test: {}/{}/{}\".format(len(pat_new_train), len(pat_new_val), len(pat_test)))\n",
    "    for i_cls in range(NUM_CLASS):\n",
    "        print(\"\\t[{}-th class] # patients = {}/{}/{} in train/val/test\".\\\n",
    "              format(i_cls, (y_new_train == i_cls).sum(), (y_new_val == i_cls).sum(), (y_test == i_cls).sum()))\n",
    "    \n",
    "    PATH_TO_NPZ = osp.join(DIR_TO_SAVE, f'{NAME_DATASET}-fold{i}.npz')\n",
    "    # save the splits\n",
    "    np.savez(PATH_TO_NPZ, \n",
    "        train_patients=list(pat_new_train), \n",
    "        val_patients=list(pat_new_val), \n",
    "        test_patients=list(pat_test)\n",
    "    )\n",
    "    print(f\"\\t[info] see the npz file at {PATH_TO_NPZ}.\")"
   ]
  }
 ],
 "metadata": {
  "kernelspec": {
   "display_name": "Python 3",
   "language": "python",
   "name": "python3"
  },
  "language_info": {
   "codemirror_mode": {
    "name": "ipython",
    "version": 3
   },
   "file_extension": ".py",
   "mimetype": "text/x-python",
   "name": "python",
   "nbconvert_exporter": "python",
   "pygments_lexer": "ipython3",
   "version": "3.6.8"
  }
 },
 "nbformat": 4,
 "nbformat_minor": 5
}
